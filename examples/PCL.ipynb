{
 "metadata": {
  "name": "",
  "signature": "sha256:bdb6fa759cb773c603eb7955a5eb90586ada54de08df6dc247ecf1f4e703064f"
 },
 "nbformat": 3,
 "nbformat_minor": 0,
 "worksheets": [
  {
   "cells": [
    {
     "cell_type": "markdown",
     "metadata": {},
     "source": [
      "NEAT 3.0 API Backend Interface (NBI)"
     ]
    },
    {
     "cell_type": "code",
     "collapsed": false,
     "input": [
      "from IPython.display import display as disp\n",
      "import pandas as pd\n",
      "from neat import print_versions, pcl\n",
      "print_versions()"
     ],
     "language": "python",
     "metadata": {},
     "outputs": [
      {
       "output_type": "stream",
       "stream": "stdout",
       "text": [
        "-=-=-=-=-=-=-=-=-=-=-=-=-=-=-=-=-=-=-=-=-=-=-=-=-=-=-=-=-=-=-=-=-=-=-=-=-=-=\n",
        "neat version: 0.0.5\n",
        "kdbpy version: 0.0.4\n",
        "qpython version: 1.0RC1\n",
        "Python version: 2.7.8 |Continuum Analytics, Inc.| (default, Jul  2 2014, 15:12:11) [MSC v.1500 64 bit (AMD64)]\n",
        "Platform: Windows-7-AMD64 (6.1.7601)\n",
        "Processor: Intel64 Family 6 Model 37 Stepping 5, GenuineIntel\n",
        "Byte-ordering: little\n",
        "-=-=-=-=-=-=-=-=-=-=-=-=-=-=-=-=-=-=-=-=-=-=-=-=-=-=-=-=-=-=-=-=-=-=-=-=-=-=\n"
       ]
      }
     ],
     "prompt_number": 2
    },
    {
     "cell_type": "code",
     "collapsed": false,
     "input": [
      "# create the PCL object, only needs one-time creation\n",
      "# sets up the q server and the client process\n",
      "p = pcl.PCL()\n",
      "p"
     ],
     "language": "python",
     "metadata": {},
     "outputs": [
      {
       "metadata": {},
       "output_type": "pyout",
       "prompt_number": 3,
       "text": [
        "[PCL: KQ(kdb=[KDB: Credentials(host='localhost', port=5001, username='rebackj', password=None) -> connected], q=Q(path=C:\\Users\\rebackj\\AppData\\Local\\Continuum\\Anaconda\\envs\\neat\\Scripts\\q.exe, pid=22768))]"
       ]
      }
     ],
     "prompt_number": 3
    },
    {
     "cell_type": "code",
     "collapsed": false,
     "input": [
      "# eval is the main entry point. These will return a scalar, Series, DataFrame depending on\n",
      "# the q output\n",
      "df = p.eval('([]a:til 10;b:reverse til 10;c:10?`4;d:{x#.Q.a}each til 10)')\n",
      "disp(df)\n",
      "\n",
      "# if you want to look at the underlying q types\n",
      "# note that this will NOT propogate (e.g. df + 1) will not have this attribute\n",
      "print df.meta\n",
      "\n",
      "# series\n",
      "s = p.eval('[]b:til 10')\n",
      "disp(s)"
     ],
     "language": "python",
     "metadata": {},
     "outputs": [
      {
       "html": [
        "<div style=\"max-height:1000px;max-width:1500px;overflow:auto;\">\n",
        "<table border=\"1\" class=\"dataframe\">\n",
        "  <thead>\n",
        "    <tr style=\"text-align: right;\">\n",
        "      <th></th>\n",
        "      <th>a</th>\n",
        "      <th>b</th>\n",
        "      <th>c</th>\n",
        "      <th>d</th>\n",
        "    </tr>\n",
        "  </thead>\n",
        "  <tbody>\n",
        "    <tr>\n",
        "      <th>0</th>\n",
        "      <td> 0</td>\n",
        "      <td> 9</td>\n",
        "      <td> milg</td>\n",
        "      <td>          </td>\n",
        "    </tr>\n",
        "    <tr>\n",
        "      <th>1</th>\n",
        "      <td> 1</td>\n",
        "      <td> 8</td>\n",
        "      <td> igfb</td>\n",
        "      <td>         a</td>\n",
        "    </tr>\n",
        "    <tr>\n",
        "      <th>2</th>\n",
        "      <td> 2</td>\n",
        "      <td> 7</td>\n",
        "      <td> kaod</td>\n",
        "      <td>        ab</td>\n",
        "    </tr>\n",
        "    <tr>\n",
        "      <th>3</th>\n",
        "      <td> 3</td>\n",
        "      <td> 6</td>\n",
        "      <td> bafc</td>\n",
        "      <td>       abc</td>\n",
        "    </tr>\n",
        "    <tr>\n",
        "      <th>4</th>\n",
        "      <td> 4</td>\n",
        "      <td> 5</td>\n",
        "      <td> kfho</td>\n",
        "      <td>      abcd</td>\n",
        "    </tr>\n",
        "    <tr>\n",
        "      <th>5</th>\n",
        "      <td> 5</td>\n",
        "      <td> 4</td>\n",
        "      <td> jecp</td>\n",
        "      <td>     abcde</td>\n",
        "    </tr>\n",
        "    <tr>\n",
        "      <th>6</th>\n",
        "      <td> 6</td>\n",
        "      <td> 3</td>\n",
        "      <td> kfmo</td>\n",
        "      <td>    abcdef</td>\n",
        "    </tr>\n",
        "    <tr>\n",
        "      <th>7</th>\n",
        "      <td> 7</td>\n",
        "      <td> 2</td>\n",
        "      <td> lkkl</td>\n",
        "      <td>   abcdefg</td>\n",
        "    </tr>\n",
        "    <tr>\n",
        "      <th>8</th>\n",
        "      <td> 8</td>\n",
        "      <td> 1</td>\n",
        "      <td> kfif</td>\n",
        "      <td>  abcdefgh</td>\n",
        "    </tr>\n",
        "    <tr>\n",
        "      <th>9</th>\n",
        "      <td> 9</td>\n",
        "      <td> 0</td>\n",
        "      <td> fglg</td>\n",
        "      <td> abcdefghi</td>\n",
        "    </tr>\n",
        "  </tbody>\n",
        "</table>\n",
        "</div>"
       ],
       "metadata": {},
       "output_type": "display_data",
       "text": [
        "   a  b     c          d\n",
        "0  0  9  milg           \n",
        "1  1  8  igfb          a\n",
        "2  2  7  kaod         ab\n",
        "3  3  6  bafc        abc\n",
        "4  4  5  kfho       abcd\n",
        "5  5  4  jecp      abcde\n",
        "6  6  3  kfmo     abcdef\n",
        "7  7  2  lkkl    abcdefg\n",
        "8  8  1  kfif   abcdefgh\n",
        "9  9  0  fglg  abcdefghi"
       ]
      },
      {
       "output_type": "stream",
       "stream": "stdout",
       "text": [
        "metadata(a=7, c=11, b=7, qtype=98, d=0)\n"
       ]
      },
      {
       "metadata": {},
       "output_type": "display_data",
       "text": [
        "0    0\n",
        "1    1\n",
        "2    2\n",
        "3    3\n",
        "4    4\n",
        "5    5\n",
        "6    6\n",
        "7    7\n",
        "8    8\n",
        "9    9\n",
        "dtype: int64"
       ]
      }
     ],
     "prompt_number": 4
    },
    {
     "cell_type": "code",
     "collapsed": false,
     "input": [
      "# scalar output\n",
      "disp(p.eval('42'))\n",
      "disp(p.eval('42.0'))\n",
      "disp(p.eval('\"abcdef\"'))\n",
      "disp(p.eval('`symbol'))\n",
      "\n",
      "# element-wise comparison\n",
      "disp(p.eval('\"foo\" = \"bar\"'))\n",
      "\n",
      "# booleans\n",
      "disp(p.eval('42 = 0'))\n",
      "disp(p.eval('\"foo\" ~ \"bar\"'))\n",
      "\n",
      "# list\n",
      "disp(p.eval('(`a; (`b; 1))'))\n",
      "disp(p.eval('(`a; 1; 42)'))\n",
      "\n",
      "# datetime \n",
      "disp(p.eval('2001.01.01'))\n",
      "disp(p.eval('2006.07.04T09:04:59:000'))\n",
      "\n",
      "# timedelta \n",
      "disp(p.eval('00:01'))\n",
      "\n",
      "# datetime returns naive timezones\n",
      "disp(p.eval('2012.10.10D22:00:00'))"
     ],
     "language": "python",
     "metadata": {},
     "outputs": [
      {
       "metadata": {},
       "output_type": "display_data",
       "text": [
        "42"
       ]
      },
      {
       "metadata": {},
       "output_type": "display_data",
       "text": [
        "42.0"
       ]
      },
      {
       "metadata": {},
       "output_type": "display_data",
       "text": [
        "'abcdef'"
       ]
      },
      {
       "metadata": {},
       "output_type": "display_data",
       "text": [
        "'symbol'"
       ]
      },
      {
       "metadata": {},
       "output_type": "display_data",
       "text": [
        "0    False\n",
        "1    False\n",
        "2    False\n",
        "dtype: bool"
       ]
      },
      {
       "metadata": {},
       "output_type": "display_data",
       "text": [
        "False"
       ]
      },
      {
       "metadata": {},
       "output_type": "display_data",
       "text": [
        "False"
       ]
      },
      {
       "metadata": {},
       "output_type": "display_data",
       "text": [
        "['a', ['b', 1]]"
       ]
      },
      {
       "metadata": {},
       "output_type": "display_data",
       "text": [
        "['a', 1, 42]"
       ]
      },
      {
       "metadata": {},
       "output_type": "display_data",
       "text": [
        "Timestamp('2001-01-01 00:00:00')"
       ]
      },
      {
       "metadata": {},
       "output_type": "display_data",
       "text": [
        "Timestamp('2006-07-04 09:04:59')"
       ]
      },
      {
       "metadata": {},
       "output_type": "display_data",
       "text": [
        "Timedelta('0 days 00:01:00')"
       ]
      },
      {
       "metadata": {},
       "output_type": "display_data",
       "text": [
        "Timestamp('2012-10-10 22:00:00')"
       ]
      }
     ],
     "prompt_number": 7
    },
    {
     "cell_type": "code",
     "collapsed": false,
     "input": [
      "# passing data in\n",
      "df = pd.DataFrame(np.random.randn(5,5))\n",
      "disp(p.eval('{x + 1}',df))\n",
      "disp(p.eval('{x + 1}',5))\n",
      "\n",
      "def f():\n",
      "    p.eval('foo:10')\n",
      "    return p.eval('foo')\n",
      "disp(p.eval(f))"
     ],
     "language": "python",
     "metadata": {},
     "outputs": [
      {
       "html": [
        "<div style=\"max-height:1000px;max-width:1500px;overflow:auto;\">\n",
        "<table border=\"1\" class=\"dataframe\">\n",
        "  <thead>\n",
        "    <tr style=\"text-align: right;\">\n",
        "      <th></th>\n",
        "      <th>0</th>\n",
        "      <th>1</th>\n",
        "      <th>2</th>\n",
        "      <th>3</th>\n",
        "      <th>4</th>\n",
        "    </tr>\n",
        "  </thead>\n",
        "  <tbody>\n",
        "    <tr>\n",
        "      <th>0</th>\n",
        "      <td> 1.419634</td>\n",
        "      <td> 1.624080</td>\n",
        "      <td> 0.678832</td>\n",
        "      <td> 0.245850</td>\n",
        "      <td> 0.715202</td>\n",
        "    </tr>\n",
        "    <tr>\n",
        "      <th>1</th>\n",
        "      <td> 0.522081</td>\n",
        "      <td> 1.759257</td>\n",
        "      <td> 1.056025</td>\n",
        "      <td> 0.131336</td>\n",
        "      <td>-0.355029</td>\n",
        "    </tr>\n",
        "    <tr>\n",
        "      <th>2</th>\n",
        "      <td> 1.370821</td>\n",
        "      <td> 0.717784</td>\n",
        "      <td> 1.558677</td>\n",
        "      <td> 2.429091</td>\n",
        "      <td> 1.643545</td>\n",
        "    </tr>\n",
        "    <tr>\n",
        "      <th>3</th>\n",
        "      <td> 1.817025</td>\n",
        "      <td>-0.682013</td>\n",
        "      <td> 2.004118</td>\n",
        "      <td> 2.455622</td>\n",
        "      <td> 0.708222</td>\n",
        "    </tr>\n",
        "    <tr>\n",
        "      <th>4</th>\n",
        "      <td> 1.912162</td>\n",
        "      <td> 0.891516</td>\n",
        "      <td> 2.184777</td>\n",
        "      <td> 1.234567</td>\n",
        "      <td>-0.974274</td>\n",
        "    </tr>\n",
        "  </tbody>\n",
        "</table>\n",
        "</div>"
       ],
       "metadata": {},
       "output_type": "display_data",
       "text": [
        "          0         1         2         3         4\n",
        "0  1.419634  1.624080  0.678832  0.245850  0.715202\n",
        "1  0.522081  1.759257  1.056025  0.131336 -0.355029\n",
        "2  1.370821  0.717784  1.558677  2.429091  1.643545\n",
        "3  1.817025 -0.682013  2.004118  2.455622  0.708222\n",
        "4  1.912162  0.891516  2.184777  1.234567 -0.974274"
       ]
      },
      {
       "metadata": {},
       "output_type": "display_data",
       "text": [
        "6"
       ]
      },
      {
       "metadata": {},
       "output_type": "display_data",
       "text": [
        "10"
       ]
      }
     ],
     "prompt_number": 6
    },
    {
     "cell_type": "code",
     "collapsed": false,
     "input": [],
     "language": "python",
     "metadata": {},
     "outputs": []
    }
   ],
   "metadata": {}
  }
 ]
}