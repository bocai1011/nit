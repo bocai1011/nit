{
 "metadata": {
  "name": "",
  "signature": "sha256:8ab6f53960d8a55d9b0ddcec03b6c8539fb3eadc1d7b7b76fdeb0c9094f7c4be"
 },
 "nbformat": 3,
 "nbformat_minor": 0,
 "worksheets": [
  {
   "cells": [
    {
     "cell_type": "code",
     "collapsed": false,
     "input": [
      "# http://code.kx.com/wiki/JB:QforMortals2/tables#Overview\n",
      "# pandas - q table operations "
     ],
     "language": "python",
     "metadata": {},
     "outputs": [],
     "prompt_number": 255
    },
    {
     "cell_type": "code",
     "collapsed": false,
     "input": [
      "from pandas import Series, DataFrame, Index, MultiIndex\n",
      "import numpy as np\n",
      "import pandas as pd"
     ],
     "language": "python",
     "metadata": {},
     "outputs": [],
     "prompt_number": 2
    },
    {
     "cell_type": "code",
     "collapsed": false,
     "input": [
      "# create a table\n",
      "# t:([] eid:1001 1002 1003; name:`Dent`Beeblebrox`Prefect; iq:98 42 126)\n",
      "t = DataFrame({ 'eid' : [1001, 1002, 1003], 'name' : ['Dent','Beeblebrox','Prefect'], 'iq' : [98, 42, 126]})\n",
      "print t"
     ],
     "language": "python",
     "metadata": {},
     "outputs": [
      {
       "output_type": "stream",
       "stream": "stdout",
       "text": [
        "    eid   iq        name\n",
        "0  1001   98        Dent\n",
        "1  1002   42  Beeblebrox\n",
        "2  1003  126     Prefect\n"
       ]
      }
     ],
     "prompt_number": 13
    },
    {
     "cell_type": "code",
     "collapsed": false,
     "input": [
      "# len (rows)\n",
      "# count t\n",
      "print len(t)\n",
      "# columns\n",
      "# cols t\n",
      "print t.columns"
     ],
     "language": "python",
     "metadata": {},
     "outputs": [
      {
       "output_type": "stream",
       "stream": "stdout",
       "text": [
        "3\n",
        "Index([u'eid', u'iq', u'name'], dtype='object')\n"
       ]
      }
     ],
     "prompt_number": 14
    },
    {
     "cell_type": "code",
     "collapsed": false,
     "input": [
      "# create keyed table\n",
      "# kt:([eid:1001 1002 1003] name:`Dent`Beeblebrox`Prefect; iq:98 42 126)\n",
      "kt = DataFrame({'name' : ['Dent','Beeblebrox','Prefect'], 'iq' : [98, 42, 126]}, index=Index([1001, 1002, 1003],name='eid'))\n",
      "print kt\n",
      "\n",
      "# set_index\n",
      "# `eid xkey `t\n",
      "print t.set_index('eid', inplace=True)\n",
      "\n",
      "# reset_index\n",
      "# () xkey `t\n",
      "print kt.reset_index()"
     ],
     "language": "python",
     "metadata": {},
     "outputs": [
      {
       "output_type": "stream",
       "stream": "stdout",
       "text": [
        "       iq        name\n",
        "eid                  \n",
        "1001   98        Dent\n",
        "1002   42  Beeblebrox\n",
        "1003  126     Prefect\n",
        "       iq        name\n",
        "eid                  \n",
        "1001   98        Dent\n",
        "1002   42  Beeblebrox\n",
        "1003  126     Prefect\n",
        "    eid   iq        name\n",
        "0  1001   98        Dent\n",
        "1  1002   42  Beeblebrox\n",
        "2  1003  126     Prefect\n"
       ]
      }
     ],
     "prompt_number": 15
    },
    {
     "cell_type": "code",
     "collapsed": false,
     "input": [
      "# multi-index on the index\n",
      "# ktc:([lname:`Dent`Beeblebrox`Prefect; fname:`Arthur`Zaphod`Ford]; iq:98 42 126)\n",
      "ktc = DataFrame({'iq' : [98, 42, 126]},index=MultiIndex.from_tuples([('Dent','Arthur'),\n",
      "                                                                     ('Beeblebrox','Zaphod'),\n",
      "                                                                     ('Prefect','Ford')],\n",
      "                                                                    names=['lname','fname']))\n",
      "print ktc"
     ],
     "language": "python",
     "metadata": {},
     "outputs": [
      {
       "output_type": "stream",
       "stream": "stdout",
       "text": [
        "                    iq\n",
        "lname      fname      \n",
        "Dent       Arthur   98\n",
        "Beeblebrox Zaphod   42\n",
        "Prefect    Ford    126\n"
       ]
      }
     ],
     "prompt_number": 19
    },
    {
     "cell_type": "code",
     "collapsed": false,
     "input": [
      "# multi-index selection by location\n",
      "# ktc[`Dent`Arthur]\n",
      "print ktc.loc[('Dent','Arthur')]\n",
      "\n",
      "# by named level \n",
      "# ktc[`lname`fname!`Beeblebrox`Zaphod]\n",
      "print ktc.xs(('Dent','Arthur'),level=('lname','fname'),drop_level=True)\n",
      "\n",
      "# ktc (`Dent`Arthur; `Prefect`Ford)\n",
      "print ktc.loc[[('Dent','Arthur'),('Prefect','Ford')]]"
     ],
     "language": "python",
     "metadata": {},
     "outputs": [
      {
       "output_type": "stream",
       "stream": "stdout",
       "text": [
        "iq    98\n",
        "Name: (Dent, Arthur), dtype: int64\n",
        "              iq\n",
        "lname fname     \n",
        "Dent  Arthur  98\n",
        "                 iq\n",
        "lname   fname      \n",
        "Dent    Arthur   98\n",
        "Prefect Ford    126\n"
       ]
      }
     ],
     "prompt_number": 25
    },
    {
     "cell_type": "code",
     "collapsed": false,
     "input": [
      "# boolean masking\n",
      "# e1:`kt$1002 1001 1001 1003 1002 1003\n",
      "# e1 = 1003\n",
      "e1 = np.array([1002,1001,1001,1003,1002,1003])\n",
      "print e1 == 1003"
     ],
     "language": "python",
     "metadata": {},
     "outputs": [
      {
       "output_type": "stream",
       "stream": "stdout",
       "text": [
        "[False False False  True False  True]\n"
       ]
      }
     ],
     "prompt_number": 32
    },
    {
     "cell_type": "code",
     "collapsed": false,
     "input": [
      "# merging (here we are defining a foreign-key in the table itself)\n",
      "# tdetails:([] eid:`kt$1003 1002 1001 1002 1001 1002; sc:126 36 92 39 98 42)\n",
      "# select eid.name, sc from tdetails\n",
      "tdetails = DataFrame({'eid' : [1003,1002,1001,1002,1001,1002], 'sc' : [126,36,92,39,98,42]})\n",
      "print tdetails\n",
      "print kt\n",
      "print pd.merge(tdetails,kt,left_on='eid',right_index=True,how='left')[['name','sc']]\n",
      "\n",
      "# this sorts\"\n",
      "print tdetails.set_index('eid').join(kt)[['name','sc']]\n"
     ],
     "language": "python",
     "metadata": {},
     "outputs": [
      {
       "output_type": "stream",
       "stream": "stdout",
       "text": [
        "    eid   sc\n",
        "0  1003  126\n",
        "1  1002   36\n",
        "2  1001   92\n",
        "3  1002   39\n",
        "4  1001   98\n",
        "5  1002   42\n",
        "       iq        name\n",
        "eid                  \n",
        "1001   98        Dent\n",
        "1002   42  Beeblebrox\n",
        "1003  126     Prefect\n",
        "         name   sc\n",
        "0     Prefect  126\n",
        "1  Beeblebrox   36\n",
        "2        Dent   92\n",
        "3  Beeblebrox   39\n",
        "4        Dent   98\n",
        "5  Beeblebrox   42\n",
        "            name   sc\n",
        "eid                  \n",
        "1001        Dent   92\n",
        "1001        Dent   98\n",
        "1002  Beeblebrox   36\n",
        "1002  Beeblebrox   39\n",
        "1002  Beeblebrox   42\n",
        "1003     Prefect  126\n"
       ]
      }
     ],
     "prompt_number": 135
    },
    {
     "cell_type": "code",
     "collapsed": false,
     "input": [
      "# first (head), last (tail)\n",
      "\n",
      "# t:([] name:`Dent`Beeblebrox`Prefect; iq:98 42 126)\n",
      "# kt:([eid:1001 1002 1003] name:`Dent`Beeblebrox`Prefect; iq:98 42 126)\n",
      "print t\n",
      "\n",
      "# first t\n",
      "# 1#t\n",
      "print t.head(1)\n",
      "# t.iloc[0]\n",
      "\n",
      "# last t\n",
      "# -1#t\n",
      "print t.tail(1)\n",
      "# t.iloc[-1]"
     ],
     "language": "python",
     "metadata": {},
     "outputs": [
      {
       "output_type": "stream",
       "stream": "stdout",
       "text": [
        "    eid   iq        name\n",
        "0  1001   98        Dent\n",
        "1  1002   42  Beeblebrox\n",
        "2  1003  126     Prefect\n",
        "    eid  iq  name\n",
        "0  1001  98  Dent\n",
        "    eid   iq     name\n",
        "2  1003  126  Prefect\n"
       ]
      }
     ],
     "prompt_number": 142
    },
    {
     "cell_type": "code",
     "collapsed": false,
     "input": [
      "# indexing (q is returning the indexers, pandas returns the default)\n",
      "# t?`name`iq!(`Dent;98)\n",
      "print t[(t.name=='Dent') & (t.iq == 98)].index\n",
      "\n",
      "# indexing with multiple values\n",
      "# t?((`Dent;98);(`Prefect;126))\n",
      "print t[((t.name=='Dent') & (t.iq == 98)) | ((t.name=='Prefect') & (t.iq == 126))].index\n",
      "# using an index\n",
      "print t.set_index(['name','iq']).loc[[('Dent',98),('Prefect',126)]]"
     ],
     "language": "python",
     "metadata": {},
     "outputs": [
      {
       "output_type": "stream",
       "stream": "stdout",
       "text": [
        "Int64Index([0], dtype='int64')\n",
        "Int64Index([0, 2], dtype='int64')\n",
        "              eid\n",
        "name    iq       \n",
        "Dent    98   1001\n",
        "Prefect 126  1003\n"
       ]
      }
     ],
     "prompt_number": 151
    },
    {
     "cell_type": "code",
     "collapsed": false,
     "input": [
      "# append (q calls this join)\n",
      "# t:([]c1:`a`b;c2:10 20)\n",
      "# t,`c1`c2!(`c;30)\n",
      "# we need to ignore_index=True here because pandas strongly ties the index to the data\n",
      "print DataFrame({'c1' : ['a','b'], 'c2' : [10,20]}).append({'c1' : 'c', 'c2' : 30},ignore_index=True)\n",
      "        "
     ],
     "language": "python",
     "metadata": {},
     "outputs": [
      {
       "output_type": "stream",
       "stream": "stdout",
       "text": [
        "  c1  c2\n",
        "0  a  10\n",
        "1  b  20\n",
        "2  c  30\n"
       ]
      }
     ],
     "prompt_number": 3
    },
    {
     "cell_type": "code",
     "collapsed": false,
     "input": [
      "# update (q calls this join)\n",
      "# kt1:([k:1 2 3] c:10 20 30)\n",
      "# kt2:([k:3 4 5] c:300 400 500)\n",
      "# kt1,kt2\n",
      "kt1 = DataFrame({'k' : [1,2,3], 'c' : [10,20,30]}).set_index('k')\n",
      "kt2 = DataFrame({'k' : [3,4,5], 'c' : [300,400,500]}).set_index('k')\n",
      "print kt1\n",
      "print kt2\n",
      "\n",
      "# hmm maybe should be easier\n",
      "new = kt1.reindex(index=kt1.index.union(kt2.index))\n",
      "new.update(kt2)\n",
      "print new\n",
      "                                                             "
     ],
     "language": "python",
     "metadata": {},
     "outputs": [
      {
       "output_type": "stream",
       "stream": "stdout",
       "text": [
        "    c\n",
        "k    \n",
        "1  10\n",
        "2  20\n",
        "3  30\n",
        "     c\n",
        "k     \n",
        "3  300\n",
        "4  400\n",
        "5  500\n",
        "     c\n",
        "k     \n",
        "1   10\n",
        "2   20\n",
        "3  300\n",
        "4  400\n",
        "5  500\n"
       ]
      }
     ],
     "prompt_number": 172
    },
    {
     "cell_type": "code",
     "collapsed": false,
     "input": [
      "# coalesce (simple join when no nulls)\n",
      "# kt3:([k:2 3] c1:0N 3000;c2:`bbb`)\n",
      "# kt1^kt3\n",
      "kt1 = DataFrame({'k' : [1,2,3], 'c1' : [10,20,30], 'c2' : ['a','b','c']}).set_index('k')\n",
      "kt3 = DataFrame({'k' : [2,3], 'c1' : [np.nan,3000], 'c2' : ['bbb',np.nan]}).set_index('k')\n",
      "print kt1\n",
      "print kt3\n",
      "new = kt1.reindex(index=kt1.index.union(kt3.index))\n",
      "new.update(kt3)\n",
      "print new\n"
     ],
     "language": "python",
     "metadata": {},
     "outputs": [
      {
       "output_type": "stream",
       "stream": "stdout",
       "text": [
        "   c1 c2\n",
        "k       \n",
        "1  10  a\n",
        "2  20  b\n",
        "3  30  c\n",
        "     c1   c2\n",
        "k           \n",
        "2   NaN  bbb\n",
        "3  3000  NaN\n",
        "     c1   c2\n",
        "k           \n",
        "1    10    a\n",
        "2    20  bbb\n",
        "3  3000    c\n"
       ]
      }
     ],
     "prompt_number": 182
    },
    {
     "cell_type": "code",
     "collapsed": false,
     "input": [
      "# concat\n",
      "# t1:([] a:1 2 3)\n",
      "# t2:([] b:100 200 300)\n",
      "# t1,'t2\n",
      "t1 = DataFrame({'a' : [1,2,3]})\n",
      "t2 = DataFrame({'b' : [100,200,300]})\n",
      "print t1\n",
      "print t2\n",
      "print pd.concat([t1,t2],axis=1)\n",
      "\n",
      "# concat with overlaps\n",
      "# removes overlaps with the 2nd arg\n",
      "# t3:([] a:10 20 30; b:100 200 300)\n",
      "# t1,'t3\n",
      "t3 = DataFrame({ 'a' : [10,20,30], 'b' : [100,200,300]})\n",
      "print pd.concat([t1.reindex(columns=t1.columns-t3.columns),t3],axis=1)"
     ],
     "language": "python",
     "metadata": {},
     "outputs": [
      {
       "output_type": "stream",
       "stream": "stdout",
       "text": [
        "   a\n",
        "0  1\n",
        "1  2\n",
        "2  3\n",
        "     b\n",
        "0  100\n",
        "1  200\n",
        "2  300\n",
        "   a    b\n",
        "0  1  100\n",
        "1  2  200\n",
        "2  3  300\n",
        "    a    b\n",
        "0  10  100\n",
        "1  20  200\n",
        "2  30  300\n"
       ]
      }
     ],
     "prompt_number": 188
    },
    {
     "cell_type": "code",
     "collapsed": false,
     "input": [
      "# take the first entry when merging\n",
      "# http://stackoverflow.com/questions/26258996/can-one-perform-a-left-join-in-pandas-that-selects-only-the-first-match-on-the-r\n",
      "left = pd.DataFrame({'age' : [11,12]})\n",
      "right = pd.DataFrame({'age' : [10,11,11], 'salary' : [100,150,200]})\n",
      "print left.merge( right, how='left', on='age' )\n",
      "print left.merge(right.drop_duplicates(['age']),how='left',on='age')"
     ],
     "language": "python",
     "metadata": {},
     "outputs": [
      {
       "output_type": "stream",
       "stream": "stdout",
       "text": [
        "   age  salary\n",
        "0   11     150\n",
        "1   11     200\n",
        "2   12     NaN\n",
        "   age  salary\n",
        "0   11     150\n",
        "1   12     NaN\n"
       ]
      }
     ],
     "prompt_number": 207
    },
    {
     "cell_type": "code",
     "collapsed": false,
     "input": [
      "# ragged data with groupby\n",
      "# \n",
      "# t3:([] wk:2006.01.01 2006.01.08; gr:( 38.92 67.34; 16.99 5.14 128.23 31.69))\n",
      "# select wk, srt:desc each gr, avgr:avg each gr, hi:max each gr from t3\n",
      "t3 = DataFrame({'wk' : ['20060101','20060108'],'gr' : [[38.92,67.34],[16.99,5.14,128.23,31.69]]})\n",
      "print t3"
     ],
     "language": "python",
     "metadata": {},
     "outputs": [
      {
       "output_type": "stream",
       "stream": "stdout",
       "text": [
        "                             gr        wk\n",
        "0                [38.92, 67.34]  20060101\n",
        "1  [16.99, 5.14, 128.23, 31.69]  20060108\n"
       ]
      }
     ],
     "prompt_number": 234
    },
    {
     "cell_type": "code",
     "collapsed": false,
     "input": [
      "# work with the lists\n",
      "def f(x):\n",
      "    x = Series(x)\n",
      "    return Series({ 'avgr' : x.mean(), 'hi' : x.max() })\n",
      "print pd.concat([t3,t3['gr'].apply(f)],axis=1)\n",
      "\n",
      "# transform to a nicer repr\n",
      "t3n = pd.concat([ DataFrame({'gr' : x['gr'], 'wk' : x['wk']}) for _, x in t3.iterrows() ], keys=t3.index)\n",
      "print t3n\n",
      "\n",
      "# then is pretty simple\n",
      "trans = t3n.groupby(level=0)['gr'].agg(['mean','max'])\n",
      "trans.columns=['avgr','hi']\n",
      "print pd.concat([t3,trans],axis=1)\n"
     ],
     "language": "python",
     "metadata": {},
     "outputs": [
      {
       "output_type": "stream",
       "stream": "stdout",
       "text": [
        "                             gr        wk     avgr      hi\n",
        "0                [38.92, 67.34]  20060101  53.1300   67.34\n",
        "1  [16.99, 5.14, 128.23, 31.69]  20060108  45.5125  128.23\n",
        "         gr        wk\n",
        "0 0   38.92  20060101\n",
        "  1   67.34  20060101\n",
        "1 0   16.99  20060108\n",
        "  1    5.14  20060108\n",
        "  2  128.23  20060108\n",
        "  3   31.69  20060108\n",
        "                             gr        wk     avgr      hi\n",
        "0                [38.92, 67.34]  20060101  53.1300   67.34\n",
        "1  [16.99, 5.14, 128.23, 31.69]  20060108  45.5125  128.23\n"
       ]
      }
     ],
     "prompt_number": 243
    },
    {
     "cell_type": "code",
     "collapsed": false,
     "input": [
      "# successive group drops become very easy in this repr\n",
      "#select wk,drp:neg 1_'deltas each desc each gr,avgr:avg each gr,hi:max each gr from t3\n",
      "g = t3n.groupby(level=0)\n",
      "print g.diff()"
     ],
     "language": "python",
     "metadata": {},
     "outputs": [
      {
       "output_type": "stream",
       "stream": "stdout",
       "text": [
        "         gr\n",
        "0 0     NaN\n",
        "  1   28.42\n",
        "1 0     NaN\n",
        "  1  -11.85\n",
        "  2  123.09\n",
        "  3  -96.54\n"
       ]
      }
     ],
     "prompt_number": 254
    },
    {
     "cell_type": "code",
     "collapsed": false,
     "input": [],
     "language": "python",
     "metadata": {},
     "outputs": []
    }
   ],
   "metadata": {}
  }
 ]
}