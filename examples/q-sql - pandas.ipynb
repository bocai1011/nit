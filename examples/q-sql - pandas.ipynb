{
 "metadata": {
  "name": "",
  "signature": "sha256:df449e04d5b9f73d8171570fdcb43f10ee7d995e26a8296c0005083757b678c9"
 },
 "nbformat": 3,
 "nbformat_minor": 0,
 "worksheets": [
  {
   "cells": [
    {
     "cell_type": "code",
     "collapsed": false,
     "input": [
      "# http://code.kx.com/wiki/JB:QforMortals2/queries_q_sql\n",
      "# q-sql - pandas comparisons"
     ],
     "language": "python",
     "metadata": {},
     "outputs": [],
     "prompt_number": 2
    },
    {
     "cell_type": "code",
     "collapsed": false,
     "input": [
      "from pandas import Series, DataFrame, Index, MultiIndex\n",
      "import numpy as np\n",
      "import pandas as pd"
     ],
     "language": "python",
     "metadata": {},
     "outputs": [],
     "prompt_number": 3
    },
    {
     "cell_type": "code",
     "collapsed": false,
     "input": [
      "# setup tables\n",
      "# s:([s:()]name:();status:();city:())\n",
      "# p:([p:()]name:();color:();weight:();city:())\n",
      "# sp:([]s:`s$();p:`p$();qty:())\n",
      "s = DataFrame({'name' : ['smith','jones','blake','clark','adams'],\n",
      "               'status' : [20,10,30,20,30],\n",
      "               'city' : ['london','paris','parios','london','athens']},\n",
      "              columns=['name','status','city'],index=Index([ \"s%d\" % i for i in range(1,6) ],name='s'))\n",
      "p = DataFrame({'name' : ['nut','bolt','screw','screw','cam','cog'],\n",
      "               'color' : ['red','green','blue','red','blue','red'],\n",
      "               'weight' : [12,17,17,14,12,19],\n",
      "               'city' : ['london','paris','rome','london','paris','london']},\n",
      "              columns=['name','color','weight','city'],index=Index([ \"p%d\" % i for i in range(1,7)],name='p'))\n",
      "sp = DataFrame({'s' : ['s1','s1','s1','s1','s4','s1','s2','s2','s3','s4','s4','s1'],\n",
      "                'p' : ['p1','p2','p3','p4','p5','p6','p1','p2','p2','p2','p4','p5'],\n",
      "                'qty' : [300,200,400,200,100,100,300,400,200,200,300,400]},\n",
      "               columns=['s','p','qty'])"
     ],
     "language": "python",
     "metadata": {},
     "outputs": [],
     "prompt_number": 10
    },
    {
     "cell_type": "code",
     "collapsed": false,
     "input": [
      "# insert\n",
      "# t:([] name:`Dent`Beeblebrox`Prefect; iq:42 98 126)\n",
      "# insert[`t;(`Slartibartfast;156)]\n",
      "t = DataFrame({'name' : ['Dent','Beeblebrox','Prefect'],\n",
      "               'iq' : [42,98,126]}, columns=['name','iq'])\n",
      "# alt: t.loc[3] = Series({'name' : 'Slartibartfast', 'iq' : 156})\n",
      "t.append({'name' : 'Slartibartfast', 'iq' : 156},ignore_index=True)\n",
      "print t\n",
      "\n",
      "# multiple inserts\n",
      "# `t insert (`Prefect`Mickey;126 1024)\n",
      "print pd.concat([t,DataFrame({'name' : 'Prefect', 'iq' : [126,1024]},columns=['name','iq'])],ignore_index=True)\n",
      "\n",
      "# insert one table to another\n",
      "# t:([] name:`Dent`Beeblebrox`Prefect; iq:98 42 126)\n",
      "# tnew:([] name:`Slartibartfast`Mickey; iq:158 1042)\n",
      "# `t insert tnew\n",
      "print pd.concat([t,DataFrame({'name' : ['Slartibartfast','Mickey'], 'iq' : [158,1042]},columns=['name','iq'])],ignore_index=True)\n",
      "\n",
      "# insert into keyed tables\n",
      "# t:([eid:1001 1002] name:`Dent`Beeblebrox; iq:98 42)\n",
      "# `t insert (1004; `Slartibartfast; 158)\n",
      "t = DataFrame({'name' : ['Dent','Beeblebrox'],\n",
      "               'eid' : [1001,1002],\n",
      "               'iq' : [98,42]}, columns=['name','iq','eid']).set_index('eid')\n",
      "t.loc[1004] = Series({'name' : 'Slartibartfast', 'iq' : 158 })\n",
      "print t"
     ],
     "language": "python",
     "metadata": {},
     "outputs": [
      {
       "output_type": "stream",
       "stream": "stdout",
       "text": [
        "         name   iq\n",
        "0        Dent   42\n",
        "1  Beeblebrox   98\n",
        "2     Prefect  126\n",
        "         name    iq\n",
        "0        Dent    42\n",
        "1  Beeblebrox    98\n",
        "2     Prefect   126\n",
        "3     Prefect   126\n",
        "4     Prefect  1024\n",
        "             name    iq\n",
        "0            Dent    42\n",
        "1      Beeblebrox    98\n",
        "2         Prefect   126\n",
        "3  Slartibartfast   158\n",
        "4          Mickey  1042\n",
        "                name   iq\n",
        "eid                      \n",
        "1001            Dent   98\n",
        "1002      Beeblebrox   42\n",
        "1004  Slartibartfast  158\n"
       ]
      }
     ],
     "prompt_number": 27
    },
    {
     "cell_type": "code",
     "collapsed": false,
     "input": [
      "# select\n",
      "# tk:([eid:1001 1002 1003] name:`Dent`Beeblebrox`Prefect; iq:98 42 126)\n",
      "# tdetails:([] eid:`tk$1003 1002 1001 1002 1001 1002; sc:126 36 92 39 98 42)t.insert?\n",
      "tk = DataFrame({'name' : ['Dent','Beeblebrox','Prefect'], 'iq' : [98, 42, 126]}, index=Index([1001, 1002, 1003],name='eid'))\n",
      "tdetails = DataFrame({'eid' : [1003,1002,1001,1002,1001,1002], 'sc' : [126,36,92,39,98,42]})\n",
      "\n",
      "# select from tk\n",
      "print tk\n",
      "\n",
      "# select cnt:count sc by eid.name from tdetails\n",
      "print tdetails.groupby('eid')[['sc']].count().join(tk['name'])\n",
      "\n",
      "# select topsc:max sc, cnt:count sc by eid.name from tdetails where eid.name<>`Prefect\n",
      "j = tdetails.set_index('eid').join(tk['name'])\n",
      "print j[j.name!='Prefect'].groupby(level='eid')['sc'].agg({'topsc' : 'max', 'cnt' : 'count'}).join(tk[['name']])"
     ],
     "language": "python",
     "metadata": {},
     "outputs": [
      {
       "output_type": "stream",
       "stream": "stdout",
       "text": [
        "       iq        name\n",
        "eid                  \n",
        "1001   98        Dent\n",
        "1002   42  Beeblebrox\n",
        "1003  126     Prefect\n",
        "      sc        name\n",
        "eid                 \n",
        "1001   2        Dent\n",
        "1002   3  Beeblebrox\n",
        "1003   1     Prefect\n",
        "      cnt  topsc        name\n",
        "eid                         \n",
        "1001    2     98        Dent\n",
        "1002    3     42  Beeblebrox\n"
       ]
      }
     ],
     "prompt_number": 90
    },
    {
     "cell_type": "code",
     "collapsed": false,
     "input": [
      "# queries\n",
      "# select from tk where iq <100\n",
      "print tk.query('iq<100')\n",
      "\n",
      "# select from tdetails where eid=1002\n",
      "print tdetails.query('eid==1002')\n",
      "\n",
      "# select from tdetails where eid=1002,sc<eid.iq\n",
      "# select from tdetails where (eid=1002)&sc<eid.iq\n",
      "k = tdetails.set_index('eid').join(tk)\n",
      "print k.query('eid==1002 and sc<iq')\n"
     ],
     "language": "python",
     "metadata": {},
     "outputs": [
      {
       "output_type": "stream",
       "stream": "stdout",
       "text": [
        "      iq        name\n",
        "eid                 \n",
        "1001  98        Dent\n",
        "1002  42  Beeblebrox\n",
        "    eid  sc\n",
        "1  1002  36\n",
        "3  1002  39\n",
        "5  1002  42\n",
        "      sc  iq        name\n",
        "eid                     \n",
        "1002  36  42  Beeblebrox\n",
        "1002  39  42  Beeblebrox\n"
       ]
      }
     ],
     "prompt_number": 107
    },
    {
     "cell_type": "code",
     "collapsed": false,
     "input": [
      "# unstack\n",
      "\n",
      "# grouping\n",
      "# seid:select sc by eid from tdetails\n",
      "g = tdetails.groupby('eid')['sc'].apply(list)\n",
      "print g\n",
      "\n",
      "# reverse\n",
      "print g.apply(Series).unstack().dropna()"
     ],
     "language": "python",
     "metadata": {},
     "outputs": [
      {
       "output_type": "stream",
       "stream": "stdout",
       "text": [
        "eid\n",
        "1001        [92, 98]\n",
        "1002    [36, 39, 42]\n",
        "1003           [126]\n",
        "Name: sc, dtype: object\n",
        "   eid \n",
        "0  1001     92\n",
        "   1002     36\n",
        "   1003    126\n",
        "1  1001     98\n",
        "   1002     39\n",
        "2  1002     42\n",
        "dtype: float64\n"
       ]
      }
     ],
     "prompt_number": 118
    },
    {
     "cell_type": "code",
     "collapsed": false,
     "input": [
      "# unique\n",
      "# tdup:([]c1:10 20 10 30 10 20 40 30;c2:`a`b`a`c`z`b`d`c)\n",
      "tdup = DataFrame({'c1' : [10,20,10,30,10,20,40,30],'c2' : ['a','b','a','c','z','b','d','c']})\n",
      "print tdup\n",
      "\n",
      "# drop based on both columns\n",
      "print tdup.drop_duplicates()"
     ],
     "language": "python",
     "metadata": {},
     "outputs": [
      {
       "output_type": "stream",
       "stream": "stdout",
       "text": [
        "   c1 c2\n",
        "0  10  a\n",
        "1  20  b\n",
        "2  10  a\n",
        "3  30  c\n",
        "4  10  z\n",
        "5  20  b\n",
        "6  40  d\n",
        "7  30  c\n",
        "   c1 c2\n",
        "0  10  a\n",
        "1  20  b\n",
        "3  30  c\n",
        "4  10  z\n",
        "6  40  d\n"
       ]
      }
     ],
     "prompt_number": 123
    },
    {
     "cell_type": "code",
     "collapsed": false,
     "input": [
      "# groupby-filter\n",
      "# select eid from tdetails where 1<(count;eid) fby eid\n",
      "print tdetails.groupby('eid').filter(lambda x: len(x) > 1)\n",
      "\n",
      "# filter and eliminate dups\n",
      "# select distinct eid from tdetails where 1<(count;eid) fby eid\n",
      "print tdetails.groupby('eid')[['eid']].filter(lambda x: len(x) > 1).drop_duplicates()\n",
      "\n",
      "# t:([]sym:`IBM`IBM`MSFT`IBM`MSFT;\n",
      "# \t\tex:`N`O`N`N`N;\n",
      "# \t\ttime:12:10:00.0 12:30:00.0 12:45:00.0 12:50:00.0 13:30:00.0;\n",
      "# \t\tprice:82.1 81.95 23.45 82.05 23.40)\n",
      "t = DataFrame({'sym' : ['IBM','IBM','MSFT','IBM','MSFT'],\n",
      "               'ex' : ['N','O','N','N','N'],\n",
      "               'time' : ['12:10:00','12:30:00','12:45:00','12:50:00','13:30:00'],\n",
      "               'price' : [82.1,81.95,23.45,82.05,23.40]},\n",
      "                columns=['sym','ex','time','price'])\n",
      "print t\n",
      "\n",
      "# groupby with aggregate\n",
      "# select from t where price=(max;price) fby ([]sym;ex)\n",
      "print t.loc[t.groupby(['sym','ex'])['price'].idxmax().values]"
     ],
     "language": "python",
     "metadata": {},
     "outputs": [
      {
       "output_type": "stream",
       "stream": "stdout",
       "text": [
        "    eid  sc\n",
        "1  1002  36\n",
        "2  1001  92\n",
        "3  1002  39\n",
        "4  1001  98\n",
        "5  1002  42\n",
        "    eid\n",
        "1  1002\n",
        "2  1001\n",
        "    sym ex      time  price\n",
        "0   IBM  N  12:10:00  82.10\n",
        "1   IBM  O  12:30:00  81.95\n",
        "2  MSFT  N  12:45:00  23.45\n",
        "3   IBM  N  12:50:00  82.05\n",
        "4  MSFT  N  13:30:00  23.40\n",
        "    sym ex      time  price\n",
        "0   IBM  N  12:10:00  82.10\n",
        "1   IBM  O  12:30:00  81.95\n",
        "2  MSFT  N  12:45:00  23.45\n"
       ]
      }
     ],
     "prompt_number": 139
    },
    {
     "cell_type": "code",
     "collapsed": false,
     "input": [
      "pd.show_versions()"
     ],
     "language": "python",
     "metadata": {},
     "outputs": [
      {
       "output_type": "stream",
       "stream": "stdout",
       "text": [
        "\n",
        "INSTALLED VERSIONS\n",
        "------------------\n",
        "commit: None\n",
        "python: 2.7.5.final.0\n",
        "python-bits: 64\n",
        "OS: Windows\n",
        "OS-release: 7\n",
        "machine: AMD64\n",
        "processor: Intel64 Family 6 Model 42 Stepping 7, GenuineIntel\n",
        "byteorder: little\n",
        "LC_ALL: None\n",
        "LANG: None\n",
        "\n",
        "pandas: 0.14.1\n",
        "nose: 1.3.0\n",
        "Cython: 0.19.2\n",
        "numpy: 1.9.0\n",
        "scipy: 0.14.0\n",
        "statsmodels: 0.5.0\n",
        "IPython: 2.3.0\n",
        "sphinx: 1.1.3\n",
        "patsy: 0.2.1\n",
        "scikits.timeseries: None\n",
        "dateutil: 1.5\n",
        "pytz: 2014.7\n",
        "bottleneck: None\n",
        "tables: 3.1.1\n",
        "numexpr: 2.3.1\n",
        "matplotlib: 1.3.1\n",
        "openpyxl: 1.6.2\n",
        "xlrd: 0.9.2\n",
        "xlwt: 0.7.5\n",
        "xlsxwriter: None\n",
        "lxml: 3.2.3\n",
        "bs4: 4.3.1\n",
        "html5lib: None\n",
        "httplib2: None\n",
        "apiclient: None\n",
        "rpy2: None\n",
        "sqlalchemy: 0.8.3\n",
        "pymysql: None\n",
        "psycopg2: None\n"
       ]
      }
     ],
     "prompt_number": 140
    },
    {
     "cell_type": "code",
     "collapsed": false,
     "input": [],
     "language": "python",
     "metadata": {},
     "outputs": []
    }
   ],
   "metadata": {}
  }
 ]
}